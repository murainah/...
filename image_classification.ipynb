{
  "nbformat": 4,
  "nbformat_minor": 0,
  "metadata": {
    "colab": {
      "name": "image_classification.ipynb",
      "provenance": [],
      "collapsed_sections": [],
      "authorship_tag": "ABX9TyPmEMNbk9kqX2Xwagng+da3",
      "include_colab_link": true
    },
    "kernelspec": {
      "name": "python3",
      "display_name": "Python 3"
    },
    "language_info": {
      "name": "python"
    }
  },
  "cells": [
    {
      "cell_type": "markdown",
      "metadata": {
        "id": "view-in-github",
        "colab_type": "text"
      },
      "source": [
        "<a href=\"https://colab.research.google.com/github/murainah/data_science-projects/blob/main/image_classification.ipynb\" target=\"_parent\"><img src=\"https://colab.research.google.com/assets/colab-badge.svg\" alt=\"Open In Colab\"/></a>"
      ]
    },
    {
      "cell_type": "code",
      "metadata": {
        "colab": {
          "base_uri": "https://localhost:8080/"
        },
        "id": "NnlNW1bIPqDI",
        "outputId": "85f932b8-790c-4f8e-a495-63c2863a734c"
      },
      "source": [
        "!pip install streamlit -q"
      ],
      "execution_count": 2,
      "outputs": [
        {
          "output_type": "stream",
          "name": "stdout",
          "text": [
            "\u001b[K     |████████████████████████████████| 9.1 MB 8.8 MB/s \n",
            "\u001b[K     |████████████████████████████████| 76 kB 5.9 MB/s \n",
            "\u001b[K     |████████████████████████████████| 4.3 MB 60.2 MB/s \n",
            "\u001b[K     |████████████████████████████████| 178 kB 79.9 MB/s \n",
            "\u001b[K     |████████████████████████████████| 180 kB 68.9 MB/s \n",
            "\u001b[K     |████████████████████████████████| 111 kB 78.3 MB/s \n",
            "\u001b[K     |████████████████████████████████| 63 kB 1.8 MB/s \n",
            "\u001b[K     |████████████████████████████████| 125 kB 75.8 MB/s \n",
            "\u001b[K     |████████████████████████████████| 790 kB 58.5 MB/s \n",
            "\u001b[K     |████████████████████████████████| 374 kB 30.5 MB/s \n",
            "\u001b[?25h  Building wheel for pympler (setup.py) ... \u001b[?25l\u001b[?25hdone\n",
            "  Building wheel for blinker (setup.py) ... \u001b[?25l\u001b[?25hdone\n",
            "\u001b[31mERROR: pip's dependency resolver does not currently take into account all the packages that are installed. This behaviour is the source of the following dependency conflicts.\n",
            "jupyter-console 5.2.0 requires prompt-toolkit<2.0.0,>=1.0.0, but you have prompt-toolkit 3.0.22 which is incompatible.\n",
            "google-colab 1.0.0 requires ipykernel~=4.10, but you have ipykernel 6.5.1 which is incompatible.\n",
            "google-colab 1.0.0 requires ipython~=5.5.0, but you have ipython 7.29.0 which is incompatible.\u001b[0m\n"
          ]
        }
      ]
    },
    {
      "cell_type": "code",
      "metadata": {
        "colab": {
          "base_uri": "https://localhost:8080/"
        },
        "id": "KrZo7-dQSeQz",
        "outputId": "55b02cb3-ec27-45c7-c699-9fe9cb6e465b"
      },
      "source": [
        "import tensorflow\n",
        "print(tensorflow.__version__)"
      ],
      "execution_count": 6,
      "outputs": [
        {
          "output_type": "stream",
          "name": "stdout",
          "text": [
            "2.7.0\n"
          ]
        }
      ]
    },
    {
      "cell_type": "code",
      "metadata": {
        "colab": {
          "base_uri": "https://localhost:8080/"
        },
        "id": "uc4cROCwP-0X",
        "outputId": "38c7a010-953f-46cd-ca8c-ac1c14d5909e"
      },
      "source": [
        "%%writefile image_app.py\n",
        "# Packages required for Image Classification\n",
        "from keras.preprocessing.image import load_img\n",
        "from keras.preprocessing.image import img_to_array\n",
        "from keras.applications.vgg16 import preprocess_input\n",
        "from keras.applications.vgg16 import decode_predictions\n",
        "from keras.applications.vgg16 import VGG16\n",
        "\n",
        "# To predict the image\n",
        "def predict(image1): \n",
        "    model = VGG16()\n",
        "    image = load_img(image1, target_size=(224, 224))\n",
        "    # convert the image pixels to a numpy array\n",
        "    image = img_to_array(image)\n",
        "    # reshape data for the model\n",
        "    image = image.reshape((1, image.shape[0], image.shape[1], image.shape[2]))\n",
        "    # prepare the image for the VGG model\n",
        "    image = preprocess_input(image)\n",
        "    # predict the probability across all output classes\n",
        "    yhat = model.predict(image)\n",
        "    # convert the probabilities to class labels\n",
        "    label = decode_predictions(yhat)\n",
        "    # retrieve the most likely result\n",
        "    label = label[0][0]\n",
        "    return label \n",
        "\n",
        "\n",
        "\n",
        "import streamlit as st \n",
        "from PIL import Image\n",
        "import requests\n",
        "\n",
        "def get_image(url):\n",
        "    img = requests.get(url)\n",
        "    file = open(\"sample_image.jpg\", \"wb\")\n",
        "    file.write(img.content)\n",
        "    file.close()\n",
        "    img_file_name = 'sample_image.jpg'\n",
        "    return img_file_name\n",
        "\n",
        "\n",
        "# Main driver\n",
        "st.title(\"Image Classification Using Deep learning\")\n",
        "st.write(\"Using VGG16 Model to classify the image\")\n",
        "\n",
        "url = st.text_input(\"Enter Image Url:\")\n",
        "if url:\n",
        "    image = get_image(url)\n",
        "    st.image(image)\n",
        "    classify = st.button(\"classify image\")\n",
        "    if classify:\n",
        "        st.write(\"\")\n",
        "        st.write(\"Classifying...\")\n",
        "        label = predict(image)\n",
        "        st.write('%s (%.2f%%)' % (label[1], label[2]*100))\n",
        "else:\n",
        "    st.write(\"Paste Image URL\")"
      ],
      "execution_count": 12,
      "outputs": [
        {
          "output_type": "stream",
          "name": "stdout",
          "text": [
            "Writing image_app.py\n"
          ]
        }
      ]
    },
    {
      "cell_type": "code",
      "metadata": {
        "colab": {
          "base_uri": "https://localhost:8080/"
        },
        "id": "srv6yPIoRoBm",
        "outputId": "7ba25cc3-ca91-4920-a05d-c95413fb340f"
      },
      "source": [
        "#!pip install pyngrok"
      ],
      "execution_count": 4,
      "outputs": [
        {
          "output_type": "stream",
          "name": "stdout",
          "text": [
            "Collecting pyngrok\n",
            "  Downloading pyngrok-5.1.0.tar.gz (745 kB)\n",
            "\u001b[?25l\r\u001b[K     |▍                               | 10 kB 25.4 MB/s eta 0:00:01\r\u001b[K     |▉                               | 20 kB 29.8 MB/s eta 0:00:01\r\u001b[K     |█▎                              | 30 kB 22.4 MB/s eta 0:00:01\r\u001b[K     |█▊                              | 40 kB 18.0 MB/s eta 0:00:01\r\u001b[K     |██▏                             | 51 kB 7.6 MB/s eta 0:00:01\r\u001b[K     |██▋                             | 61 kB 8.8 MB/s eta 0:00:01\r\u001b[K     |███                             | 71 kB 8.1 MB/s eta 0:00:01\r\u001b[K     |███▌                            | 81 kB 9.0 MB/s eta 0:00:01\r\u001b[K     |████                            | 92 kB 9.8 MB/s eta 0:00:01\r\u001b[K     |████▍                           | 102 kB 7.3 MB/s eta 0:00:01\r\u001b[K     |████▉                           | 112 kB 7.3 MB/s eta 0:00:01\r\u001b[K     |█████▎                          | 122 kB 7.3 MB/s eta 0:00:01\r\u001b[K     |█████▊                          | 133 kB 7.3 MB/s eta 0:00:01\r\u001b[K     |██████▏                         | 143 kB 7.3 MB/s eta 0:00:01\r\u001b[K     |██████▋                         | 153 kB 7.3 MB/s eta 0:00:01\r\u001b[K     |███████                         | 163 kB 7.3 MB/s eta 0:00:01\r\u001b[K     |███████▌                        | 174 kB 7.3 MB/s eta 0:00:01\r\u001b[K     |████████                        | 184 kB 7.3 MB/s eta 0:00:01\r\u001b[K     |████████▍                       | 194 kB 7.3 MB/s eta 0:00:01\r\u001b[K     |████████▉                       | 204 kB 7.3 MB/s eta 0:00:01\r\u001b[K     |█████████▎                      | 215 kB 7.3 MB/s eta 0:00:01\r\u001b[K     |█████████▊                      | 225 kB 7.3 MB/s eta 0:00:01\r\u001b[K     |██████████▏                     | 235 kB 7.3 MB/s eta 0:00:01\r\u001b[K     |██████████▌                     | 245 kB 7.3 MB/s eta 0:00:01\r\u001b[K     |███████████                     | 256 kB 7.3 MB/s eta 0:00:01\r\u001b[K     |███████████▍                    | 266 kB 7.3 MB/s eta 0:00:01\r\u001b[K     |███████████▉                    | 276 kB 7.3 MB/s eta 0:00:01\r\u001b[K     |████████████▎                   | 286 kB 7.3 MB/s eta 0:00:01\r\u001b[K     |████████████▊                   | 296 kB 7.3 MB/s eta 0:00:01\r\u001b[K     |█████████████▏                  | 307 kB 7.3 MB/s eta 0:00:01\r\u001b[K     |█████████████▋                  | 317 kB 7.3 MB/s eta 0:00:01\r\u001b[K     |██████████████                  | 327 kB 7.3 MB/s eta 0:00:01\r\u001b[K     |██████████████▌                 | 337 kB 7.3 MB/s eta 0:00:01\r\u001b[K     |███████████████                 | 348 kB 7.3 MB/s eta 0:00:01\r\u001b[K     |███████████████▍                | 358 kB 7.3 MB/s eta 0:00:01\r\u001b[K     |███████████████▉                | 368 kB 7.3 MB/s eta 0:00:01\r\u001b[K     |████████████████▎               | 378 kB 7.3 MB/s eta 0:00:01\r\u001b[K     |████████████████▊               | 389 kB 7.3 MB/s eta 0:00:01\r\u001b[K     |█████████████████▏              | 399 kB 7.3 MB/s eta 0:00:01\r\u001b[K     |█████████████████▋              | 409 kB 7.3 MB/s eta 0:00:01\r\u001b[K     |██████████████████              | 419 kB 7.3 MB/s eta 0:00:01\r\u001b[K     |██████████████████▌             | 430 kB 7.3 MB/s eta 0:00:01\r\u001b[K     |███████████████████             | 440 kB 7.3 MB/s eta 0:00:01\r\u001b[K     |███████████████████▍            | 450 kB 7.3 MB/s eta 0:00:01\r\u001b[K     |███████████████████▉            | 460 kB 7.3 MB/s eta 0:00:01\r\u001b[K     |████████████████████▎           | 471 kB 7.3 MB/s eta 0:00:01\r\u001b[K     |████████████████████▋           | 481 kB 7.3 MB/s eta 0:00:01\r\u001b[K     |█████████████████████           | 491 kB 7.3 MB/s eta 0:00:01\r\u001b[K     |█████████████████████▌          | 501 kB 7.3 MB/s eta 0:00:01\r\u001b[K     |██████████████████████          | 512 kB 7.3 MB/s eta 0:00:01\r\u001b[K     |██████████████████████▍         | 522 kB 7.3 MB/s eta 0:00:01\r\u001b[K     |██████████████████████▉         | 532 kB 7.3 MB/s eta 0:00:01\r\u001b[K     |███████████████████████▎        | 542 kB 7.3 MB/s eta 0:00:01\r\u001b[K     |███████████████████████▊        | 552 kB 7.3 MB/s eta 0:00:01\r\u001b[K     |████████████████████████▏       | 563 kB 7.3 MB/s eta 0:00:01\r\u001b[K     |████████████████████████▋       | 573 kB 7.3 MB/s eta 0:00:01\r\u001b[K     |█████████████████████████       | 583 kB 7.3 MB/s eta 0:00:01\r\u001b[K     |█████████████████████████▌      | 593 kB 7.3 MB/s eta 0:00:01\r\u001b[K     |██████████████████████████      | 604 kB 7.3 MB/s eta 0:00:01\r\u001b[K     |██████████████████████████▍     | 614 kB 7.3 MB/s eta 0:00:01\r\u001b[K     |██████████████████████████▉     | 624 kB 7.3 MB/s eta 0:00:01\r\u001b[K     |███████████████████████████▎    | 634 kB 7.3 MB/s eta 0:00:01\r\u001b[K     |███████████████████████████▊    | 645 kB 7.3 MB/s eta 0:00:01\r\u001b[K     |████████████████████████████▏   | 655 kB 7.3 MB/s eta 0:00:01\r\u001b[K     |████████████████████████████▋   | 665 kB 7.3 MB/s eta 0:00:01\r\u001b[K     |█████████████████████████████   | 675 kB 7.3 MB/s eta 0:00:01\r\u001b[K     |█████████████████████████████▌  | 686 kB 7.3 MB/s eta 0:00:01\r\u001b[K     |██████████████████████████████  | 696 kB 7.3 MB/s eta 0:00:01\r\u001b[K     |██████████████████████████████▍ | 706 kB 7.3 MB/s eta 0:00:01\r\u001b[K     |██████████████████████████████▊ | 716 kB 7.3 MB/s eta 0:00:01\r\u001b[K     |███████████████████████████████▏| 727 kB 7.3 MB/s eta 0:00:01\r\u001b[K     |███████████████████████████████▋| 737 kB 7.3 MB/s eta 0:00:01\r\u001b[K     |████████████████████████████████| 745 kB 7.3 MB/s \n",
            "\u001b[?25hRequirement already satisfied: PyYAML in /usr/local/lib/python3.7/dist-packages (from pyngrok) (3.13)\n",
            "Building wheels for collected packages: pyngrok\n",
            "  Building wheel for pyngrok (setup.py) ... \u001b[?25l\u001b[?25hdone\n",
            "  Created wheel for pyngrok: filename=pyngrok-5.1.0-py3-none-any.whl size=19006 sha256=fbdbf6afc50c1a65511016ee811967f485c0e3cb7d79a6b6bc9a3e8832b8ea41\n",
            "  Stored in directory: /root/.cache/pip/wheels/bf/e6/af/ccf6598ecefecd44104069371795cb9b3afbcd16987f6ccfb3\n",
            "Successfully built pyngrok\n",
            "Installing collected packages: pyngrok\n",
            "Successfully installed pyngrok-5.1.0\n"
          ]
        }
      ]
    },
    {
      "cell_type": "code",
      "metadata": {
        "colab": {
          "base_uri": "https://localhost:8080/"
        },
        "id": "PhsmVrkrRuYv",
        "outputId": "ea3adb6a-3283-432b-df77-8e49c243f619"
      },
      "source": [
        "!streamlit run app.py & npx localtunnel --port 8501"
      ],
      "execution_count": 11,
      "outputs": [
        {
          "output_type": "stream",
          "name": "stdout",
          "text": [
            "\u001b[K\u001b[?25hnpx: installed 22 in 2.838s\n",
            "\u001b[0m\n",
            "\u001b[34m\u001b[1m  You can now view your Streamlit app in your browser.\u001b[0m\n",
            "\u001b[0m\n",
            "\u001b[34m  Network URL: \u001b[0m\u001b[1mhttp://172.28.0.2:8501\u001b[0m\n",
            "\u001b[34m  External URL: \u001b[0m\u001b[1mhttp://34.125.85.249:8501\u001b[0m\n",
            "\u001b[0m\n",
            "your url is: https://spicy-goose-75.loca.lt\n",
            "2021-11-21 12:20:32.481520: E tensorflow/stream_executor/cuda/cuda_driver.cc:271] failed call to cuInit: CUDA_ERROR_NO_DEVICE: no CUDA-capable device is detected\n",
            "2021-11-21 12:25:25.685 5 out of the last 5 calls to <function Model.make_predict_function.<locals>.predict_function at 0x7feba103e9e0> triggered tf.function retracing. Tracing is expensive and the excessive number of tracings could be due to (1) creating @tf.function repeatedly in a loop, (2) passing tensors with different shapes, (3) passing Python objects instead of tensors. For (1), please define your @tf.function outside of the loop. For (2), @tf.function has experimental_relax_shapes=True option that relaxes argument shapes that can avoid unnecessary retracing. For (3), please refer to https://www.tensorflow.org/guide/function#controlling_retracing and https://www.tensorflow.org/api_docs/python/tf/function for  more details.\n",
            "\u001b[34m  Stopping...\u001b[0m\n",
            "^C\n"
          ]
        }
      ]
    },
    {
      "cell_type": "code",
      "metadata": {
        "id": "ZmtnLCkjSFk7"
      },
      "source": [
        ""
      ],
      "execution_count": null,
      "outputs": []
    }
  ]
}