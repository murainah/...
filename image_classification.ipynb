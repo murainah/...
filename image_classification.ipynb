{
  "nbformat": 4,
  "nbformat_minor": 0,
  "metadata": {
    "colab": {
      "name": "image_classification.ipynb",
      "provenance": [],
      "collapsed_sections": [],
      "authorship_tag": "ABX9TyMFdfZZLxaxWVDl8XXryMma",
      "include_colab_link": true
    },
    "kernelspec": {
      "name": "python3",
      "display_name": "Python 3"
    },
    "language_info": {
      "name": "python"
    }
  },
  "cells": [
    {
      "cell_type": "markdown",
      "metadata": {
        "id": "view-in-github",
        "colab_type": "text"
      },
      "source": [
        "<a href=\"https://colab.research.google.com/github/murainah/data_science-projects/blob/main/image_classification.ipynb\" target=\"_parent\"><img src=\"https://colab.research.google.com/assets/colab-badge.svg\" alt=\"Open In Colab\"/></a>"
      ]
    },
    {
      "cell_type": "code",
      "metadata": {
        "colab": {
          "base_uri": "https://localhost:8080/"
        },
        "id": "NnlNW1bIPqDI",
        "outputId": "4692fa1c-249b-4105-e239-508a69c8d6b5"
      },
      "source": [
        "!pip install streamlit -q"
      ],
      "execution_count": 1,
      "outputs": [
        {
          "output_type": "stream",
          "name": "stdout",
          "text": [
            "\u001b[K     |████████████████████████████████| 9.1 MB 4.2 MB/s \n",
            "\u001b[K     |████████████████████████████████| 4.3 MB 33.2 MB/s \n",
            "\u001b[K     |████████████████████████████████| 180 kB 46.1 MB/s \n",
            "\u001b[K     |████████████████████████████████| 76 kB 4.8 MB/s \n",
            "\u001b[K     |████████████████████████████████| 111 kB 45.3 MB/s \n",
            "\u001b[K     |████████████████████████████████| 178 kB 63.7 MB/s \n",
            "\u001b[K     |████████████████████████████████| 63 kB 1.6 MB/s \n",
            "\u001b[K     |████████████████████████████████| 125 kB 65.3 MB/s \n",
            "\u001b[K     |████████████████████████████████| 790 kB 59.4 MB/s \n",
            "\u001b[K     |████████████████████████████████| 374 kB 49.0 MB/s \n",
            "\u001b[?25h  Building wheel for pympler (setup.py) ... \u001b[?25l\u001b[?25hdone\n",
            "  Building wheel for blinker (setup.py) ... \u001b[?25l\u001b[?25hdone\n",
            "\u001b[31mERROR: pip's dependency resolver does not currently take into account all the packages that are installed. This behaviour is the source of the following dependency conflicts.\n",
            "jupyter-console 5.2.0 requires prompt-toolkit<2.0.0,>=1.0.0, but you have prompt-toolkit 3.0.22 which is incompatible.\n",
            "google-colab 1.0.0 requires ipykernel~=4.10, but you have ipykernel 6.5.1 which is incompatible.\n",
            "google-colab 1.0.0 requires ipython~=5.5.0, but you have ipython 7.29.0 which is incompatible.\u001b[0m\n"
          ]
        }
      ]
    },
    {
      "cell_type": "code",
      "metadata": {
        "colab": {
          "base_uri": "https://localhost:8080/"
        },
        "id": "KrZo7-dQSeQz",
        "outputId": "55b02cb3-ec27-45c7-c699-9fe9cb6e465b"
      },
      "source": [
        "import tensorflow\n",
        "print(tensorflow.__version__)"
      ],
      "execution_count": 6,
      "outputs": [
        {
          "output_type": "stream",
          "name": "stdout",
          "text": [
            "2.7.0\n"
          ]
        }
      ]
    },
    {
      "cell_type": "code",
      "metadata": {
        "colab": {
          "base_uri": "https://localhost:8080/"
        },
        "id": "uc4cROCwP-0X",
        "outputId": "16033d98-1ddc-497e-cff0-d656950e9917"
      },
      "source": [
        "%%writefile image_app.py\n",
        "# Packages required for Image Classification\n",
        "from keras.preprocessing.image import load_img\n",
        "from keras.preprocessing.image import img_to_array\n",
        "from keras.applications.vgg16 import preprocess_input\n",
        "from keras.applications.vgg16 import decode_predictions\n",
        "from keras.applications.vgg16 import VGG16\n",
        "\n",
        "# To predict the image\n",
        "def predict(image1): \n",
        "    model = VGG16()\n",
        "    image = load_img(image1, target_size=(224, 224))\n",
        "    # convert the image pixels to a numpy array\n",
        "    image = img_to_array(image)\n",
        "    # reshape data for the model\n",
        "    image = image.reshape((1, image.shape[0], image.shape[1], image.shape[2]))\n",
        "    # prepare the image for the VGG model\n",
        "    image = preprocess_input(image)\n",
        "    # predict the probability across all output classes\n",
        "    yhat = model.predict(image)\n",
        "    # convert the probabilities to class labels\n",
        "    label = decode_predictions(yhat)\n",
        "    # retrieve the most likely result\n",
        "    label = label[0][0]\n",
        "    return label \n",
        "\n",
        "\n",
        "\n",
        "import streamlit as st \n",
        "from PIL import Image\n",
        "import requests\n",
        "\n",
        "\n",
        "def get_image(url):\n",
        "    img = requests.get(url)\n",
        "    file = open(\"sample_image.jpg\", \"wb\")\n",
        "    file.write(img.content)\n",
        "    file.close()\n",
        "    img_file_name = 'sample_image.jpg'\n",
        "    return img_file_name\n",
        "\n",
        "\n",
        "# Main \n",
        "image = Image.open('image.png')\n",
        "\n",
        "st.image(image, width = 500)\n",
        "\n",
        "st.title(\"Image Classification Using Deep learning\")\n",
        "st.write(\"Using VGG16 Model to classify the image\")\n",
        "\n",
        "url = st.text_input(\"Enter Image Url:\")\n",
        "if url:\n",
        "    image = get_image(url)\n",
        "    st.image(image)\n",
        "    classify = st.button(\"classify image\")\n",
        "    if classify:\n",
        "        st.write(\"\")\n",
        "        st.write(\"Classifying...\")\n",
        "        label = predict(image)\n",
        "        st.write('%s (%.2f%%)' % (label[1], label[2]*100))\n",
        "else:\n",
        "    st.write(\"Paste Your Image Image URL Above!!\")"
      ],
      "execution_count": 5,
      "outputs": [
        {
          "output_type": "stream",
          "name": "stdout",
          "text": [
            "Overwriting image_app.py\n"
          ]
        }
      ]
    },
    {
      "cell_type": "code",
      "metadata": {
        "colab": {
          "base_uri": "https://localhost:8080/"
        },
        "id": "srv6yPIoRoBm",
        "outputId": "7ba25cc3-ca91-4920-a05d-c95413fb340f"
      },
      "source": [
        "#!pip install pyngrok"
      ],
      "execution_count": 4,
      "outputs": [
        {
          "output_type": "stream",
          "name": "stdout",
          "text": [
            "Collecting pyngrok\n",
            "  Downloading pyngrok-5.1.0.tar.gz (745 kB)\n",
            "\u001b[?25l\r\u001b[K     |▍                               | 10 kB 25.4 MB/s eta 0:00:01\r\u001b[K     |▉                               | 20 kB 29.8 MB/s eta 0:00:01\r\u001b[K     |█▎                              | 30 kB 22.4 MB/s eta 0:00:01\r\u001b[K     |█▊                              | 40 kB 18.0 MB/s eta 0:00:01\r\u001b[K     |██▏                             | 51 kB 7.6 MB/s eta 0:00:01\r\u001b[K     |██▋                             | 61 kB 8.8 MB/s eta 0:00:01\r\u001b[K     |███                             | 71 kB 8.1 MB/s eta 0:00:01\r\u001b[K     |███▌                            | 81 kB 9.0 MB/s eta 0:00:01\r\u001b[K     |████                            | 92 kB 9.8 MB/s eta 0:00:01\r\u001b[K     |████▍                           | 102 kB 7.3 MB/s eta 0:00:01\r\u001b[K     |████▉                           | 112 kB 7.3 MB/s eta 0:00:01\r\u001b[K     |█████▎                          | 122 kB 7.3 MB/s eta 0:00:01\r\u001b[K     |█████▊                          | 133 kB 7.3 MB/s eta 0:00:01\r\u001b[K     |██████▏                         | 143 kB 7.3 MB/s eta 0:00:01\r\u001b[K     |██████▋                         | 153 kB 7.3 MB/s eta 0:00:01\r\u001b[K     |███████                         | 163 kB 7.3 MB/s eta 0:00:01\r\u001b[K     |███████▌                        | 174 kB 7.3 MB/s eta 0:00:01\r\u001b[K     |████████                        | 184 kB 7.3 MB/s eta 0:00:01\r\u001b[K     |████████▍                       | 194 kB 7.3 MB/s eta 0:00:01\r\u001b[K     |████████▉                       | 204 kB 7.3 MB/s eta 0:00:01\r\u001b[K     |█████████▎                      | 215 kB 7.3 MB/s eta 0:00:01\r\u001b[K     |█████████▊                      | 225 kB 7.3 MB/s eta 0:00:01\r\u001b[K     |██████████▏                     | 235 kB 7.3 MB/s eta 0:00:01\r\u001b[K     |██████████▌                     | 245 kB 7.3 MB/s eta 0:00:01\r\u001b[K     |███████████                     | 256 kB 7.3 MB/s eta 0:00:01\r\u001b[K     |███████████▍                    | 266 kB 7.3 MB/s eta 0:00:01\r\u001b[K     |███████████▉                    | 276 kB 7.3 MB/s eta 0:00:01\r\u001b[K     |████████████▎                   | 286 kB 7.3 MB/s eta 0:00:01\r\u001b[K     |████████████▊                   | 296 kB 7.3 MB/s eta 0:00:01\r\u001b[K     |█████████████▏                  | 307 kB 7.3 MB/s eta 0:00:01\r\u001b[K     |█████████████▋                  | 317 kB 7.3 MB/s eta 0:00:01\r\u001b[K     |██████████████                  | 327 kB 7.3 MB/s eta 0:00:01\r\u001b[K     |██████████████▌                 | 337 kB 7.3 MB/s eta 0:00:01\r\u001b[K     |███████████████                 | 348 kB 7.3 MB/s eta 0:00:01\r\u001b[K     |███████████████▍                | 358 kB 7.3 MB/s eta 0:00:01\r\u001b[K     |███████████████▉                | 368 kB 7.3 MB/s eta 0:00:01\r\u001b[K     |████████████████▎               | 378 kB 7.3 MB/s eta 0:00:01\r\u001b[K     |████████████████▊               | 389 kB 7.3 MB/s eta 0:00:01\r\u001b[K     |█████████████████▏              | 399 kB 7.3 MB/s eta 0:00:01\r\u001b[K     |█████████████████▋              | 409 kB 7.3 MB/s eta 0:00:01\r\u001b[K     |██████████████████              | 419 kB 7.3 MB/s eta 0:00:01\r\u001b[K     |██████████████████▌             | 430 kB 7.3 MB/s eta 0:00:01\r\u001b[K     |███████████████████             | 440 kB 7.3 MB/s eta 0:00:01\r\u001b[K     |███████████████████▍            | 450 kB 7.3 MB/s eta 0:00:01\r\u001b[K     |███████████████████▉            | 460 kB 7.3 MB/s eta 0:00:01\r\u001b[K     |████████████████████▎           | 471 kB 7.3 MB/s eta 0:00:01\r\u001b[K     |████████████████████▋           | 481 kB 7.3 MB/s eta 0:00:01\r\u001b[K     |█████████████████████           | 491 kB 7.3 MB/s eta 0:00:01\r\u001b[K     |█████████████████████▌          | 501 kB 7.3 MB/s eta 0:00:01\r\u001b[K     |██████████████████████          | 512 kB 7.3 MB/s eta 0:00:01\r\u001b[K     |██████████████████████▍         | 522 kB 7.3 MB/s eta 0:00:01\r\u001b[K     |██████████████████████▉         | 532 kB 7.3 MB/s eta 0:00:01\r\u001b[K     |███████████████████████▎        | 542 kB 7.3 MB/s eta 0:00:01\r\u001b[K     |███████████████████████▊        | 552 kB 7.3 MB/s eta 0:00:01\r\u001b[K     |████████████████████████▏       | 563 kB 7.3 MB/s eta 0:00:01\r\u001b[K     |████████████████████████▋       | 573 kB 7.3 MB/s eta 0:00:01\r\u001b[K     |█████████████████████████       | 583 kB 7.3 MB/s eta 0:00:01\r\u001b[K     |█████████████████████████▌      | 593 kB 7.3 MB/s eta 0:00:01\r\u001b[K     |██████████████████████████      | 604 kB 7.3 MB/s eta 0:00:01\r\u001b[K     |██████████████████████████▍     | 614 kB 7.3 MB/s eta 0:00:01\r\u001b[K     |██████████████████████████▉     | 624 kB 7.3 MB/s eta 0:00:01\r\u001b[K     |███████████████████████████▎    | 634 kB 7.3 MB/s eta 0:00:01\r\u001b[K     |███████████████████████████▊    | 645 kB 7.3 MB/s eta 0:00:01\r\u001b[K     |████████████████████████████▏   | 655 kB 7.3 MB/s eta 0:00:01\r\u001b[K     |████████████████████████████▋   | 665 kB 7.3 MB/s eta 0:00:01\r\u001b[K     |█████████████████████████████   | 675 kB 7.3 MB/s eta 0:00:01\r\u001b[K     |█████████████████████████████▌  | 686 kB 7.3 MB/s eta 0:00:01\r\u001b[K     |██████████████████████████████  | 696 kB 7.3 MB/s eta 0:00:01\r\u001b[K     |██████████████████████████████▍ | 706 kB 7.3 MB/s eta 0:00:01\r\u001b[K     |██████████████████████████████▊ | 716 kB 7.3 MB/s eta 0:00:01\r\u001b[K     |███████████████████████████████▏| 727 kB 7.3 MB/s eta 0:00:01\r\u001b[K     |███████████████████████████████▋| 737 kB 7.3 MB/s eta 0:00:01\r\u001b[K     |████████████████████████████████| 745 kB 7.3 MB/s \n",
            "\u001b[?25hRequirement already satisfied: PyYAML in /usr/local/lib/python3.7/dist-packages (from pyngrok) (3.13)\n",
            "Building wheels for collected packages: pyngrok\n",
            "  Building wheel for pyngrok (setup.py) ... \u001b[?25l\u001b[?25hdone\n",
            "  Created wheel for pyngrok: filename=pyngrok-5.1.0-py3-none-any.whl size=19006 sha256=fbdbf6afc50c1a65511016ee811967f485c0e3cb7d79a6b6bc9a3e8832b8ea41\n",
            "  Stored in directory: /root/.cache/pip/wheels/bf/e6/af/ccf6598ecefecd44104069371795cb9b3afbcd16987f6ccfb3\n",
            "Successfully built pyngrok\n",
            "Installing collected packages: pyngrok\n",
            "Successfully installed pyngrok-5.1.0\n"
          ]
        }
      ]
    },
    {
      "cell_type": "code",
      "metadata": {
        "colab": {
          "base_uri": "https://localhost:8080/"
        },
        "id": "PhsmVrkrRuYv",
        "outputId": "bb150416-746a-4c98-f901-0dd1df12ef48"
      },
      "source": [
        "!streamlit run image_app.py & npx localtunnel --port 8501"
      ],
      "execution_count": 6,
      "outputs": [
        {
          "output_type": "stream",
          "name": "stdout",
          "text": [
            "\u001b[K\u001b[?25hnpx: installed 22 in 2.416s\n",
            "your url is: https://orange-dodo-63.loca.lt\n",
            "\u001b[0m\n",
            "\u001b[34m\u001b[1m  You can now view your Streamlit app in your browser.\u001b[0m\n",
            "\u001b[0m\n",
            "\u001b[34m  Network URL: \u001b[0m\u001b[1mhttp://172.28.0.2:8501\u001b[0m\n",
            "\u001b[34m  External URL: \u001b[0m\u001b[1mhttp://35.194.229.186:8501\u001b[0m\n",
            "\u001b[0m\n",
            "\u001b[34m  Stopping...\u001b[0m\n",
            "^C\n"
          ]
        }
      ]
    },
    {
      "cell_type": "code",
      "metadata": {
        "id": "ZmtnLCkjSFk7"
      },
      "source": [
        ""
      ],
      "execution_count": null,
      "outputs": []
    }
  ]
}